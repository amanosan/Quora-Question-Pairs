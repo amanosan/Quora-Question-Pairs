{
 "cells": [
  {
   "cell_type": "code",
   "execution_count": 13,
   "id": "23f92040",
   "metadata": {},
   "outputs": [],
   "source": [
    "import pandas as pd\n",
    "import numpy as np\n",
    "import matplotlib.pyplot as plt\n",
    "import seaborn as sns\n",
    "from collections import Counter\n",
    "import os\n",
    "import warnings\n",
    "import sqlite3\n",
    "from sqlalchemy import create_engine\n",
    "\n",
    "# custom functions\n",
    "from helper_functions import check_table_exists, create_connection\n",
    "from helper_functions import plot_conf_matrix\n",
    "from model_train_evaluate import train_model, evaluate_model\n",
    "\n",
    "from hyperopt import tpe, hp, fmin, STATUS_OK, Trials\n",
    "import xgboost as xgb\n",
    "from sklearn.linear_model import LogisticRegression\n",
    "from sklearn.svm import SVC\n",
    "from sklearn.ensemble import RandomForestClassifier\n",
    "from sklearn.model_selection import GridSearchCV, RandomizedSearchCV\n",
    "from sklearn.model_selection import train_test_split, cross_val_score\n",
    "from sklearn.metrics import accuracy_score, log_loss, classification_report, confusion_matrix, roc_auc_score\n",
    "\n",
    "import mlflow \n",
    "import mlflow.sklearn\n",
    "\n",
    "warnings.filterwarnings('ignore')\n",
    "%matplotlib inline"
   ]
  },
  {
   "cell_type": "code",
   "execution_count": 2,
   "id": "416aa2ed",
   "metadata": {},
   "outputs": [
    {
     "name": "stdout",
     "output_type": "stream",
     "text": [
      "Tables in the DB:\n",
      "data\n"
     ]
    }
   ],
   "source": [
    "db_file = 'data/train.db'\n",
    "\n",
    "# getting the connection\n",
    "conn = create_connection(db_file)\n",
    "\n",
    "# checking tables in database\n",
    "check_table_exists(conn)\n",
    "\n",
    "# closing the connection\n",
    "conn.close()"
   ]
  },
  {
   "cell_type": "markdown",
   "id": "237cd582",
   "metadata": {},
   "source": [
    "***Reading the Data from DB***"
   ]
  },
  {
   "cell_type": "code",
   "execution_count": 3,
   "id": "173c9c12",
   "metadata": {},
   "outputs": [],
   "source": [
    "# reading the data\n",
    "if os.path.isfile(db_file):\n",
    "    conn = create_connection(db_file)\n",
    "    \n",
    "    if conn is not None:\n",
    "        # selecting random records\n",
    "        data = pd.read_sql_query(\"SELECT *FROM data ORDER BY RANDOM() LIMIT 100001;\", conn)\n",
    "        conn.commit() # commiting the change\n",
    "        conn.close() # closing the connection"
   ]
  },
  {
   "cell_type": "code",
   "execution_count": 4,
   "id": "3e5b1fb9",
   "metadata": {},
   "outputs": [
    {
     "data": {
      "text/plain": [
       "pandas.core.frame.DataFrame"
      ]
     },
     "execution_count": 4,
     "metadata": {},
     "output_type": "execute_result"
    }
   ],
   "source": [
    "type(data)"
   ]
  },
  {
   "cell_type": "code",
   "execution_count": 5,
   "id": "82d5a477",
   "metadata": {},
   "outputs": [
    {
     "data": {
      "text/html": [
       "<div>\n",
       "<style scoped>\n",
       "    .dataframe tbody tr th:only-of-type {\n",
       "        vertical-align: middle;\n",
       "    }\n",
       "\n",
       "    .dataframe tbody tr th {\n",
       "        vertical-align: top;\n",
       "    }\n",
       "\n",
       "    .dataframe thead th {\n",
       "        text-align: right;\n",
       "    }\n",
       "</style>\n",
       "<table border=\"1\" class=\"dataframe\">\n",
       "  <thead>\n",
       "    <tr style=\"text-align: right;\">\n",
       "      <th></th>\n",
       "      <th>index</th>\n",
       "      <th>id</th>\n",
       "      <th>is_duplicate</th>\n",
       "      <th>cwc_min</th>\n",
       "      <th>cwc_max</th>\n",
       "      <th>csc_min</th>\n",
       "      <th>csc_max</th>\n",
       "      <th>ctc_min</th>\n",
       "      <th>ctc_max</th>\n",
       "      <th>last_word_eq</th>\n",
       "      <th>...</th>\n",
       "      <th>86_y_y</th>\n",
       "      <th>87_y_y</th>\n",
       "      <th>88_y_y</th>\n",
       "      <th>89_y_y</th>\n",
       "      <th>90_y_y</th>\n",
       "      <th>91_y_y</th>\n",
       "      <th>92_y_y</th>\n",
       "      <th>93_y_y</th>\n",
       "      <th>94_y_y</th>\n",
       "      <th>95_y_y</th>\n",
       "    </tr>\n",
       "  </thead>\n",
       "  <tbody>\n",
       "    <tr>\n",
       "      <th>0</th>\n",
       "      <td>521916</td>\n",
       "      <td>341915</td>\n",
       "      <td>0</td>\n",
       "      <td>0.428565</td>\n",
       "      <td>0.428565</td>\n",
       "      <td>0.285710</td>\n",
       "      <td>0.285710</td>\n",
       "      <td>0.714276</td>\n",
       "      <td>0.714276</td>\n",
       "      <td>1.0</td>\n",
       "      <td>...</td>\n",
       "      <td>-2.777638</td>\n",
       "      <td>7.548447</td>\n",
       "      <td>-2.188004</td>\n",
       "      <td>-0.445535</td>\n",
       "      <td>-14.497085</td>\n",
       "      <td>9.488895</td>\n",
       "      <td>-1.895818</td>\n",
       "      <td>13.178097</td>\n",
       "      <td>18.536980</td>\n",
       "      <td>-17.954488</td>\n",
       "    </tr>\n",
       "    <tr>\n",
       "      <th>1</th>\n",
       "      <td>43624</td>\n",
       "      <td>43623</td>\n",
       "      <td>0</td>\n",
       "      <td>0.599988</td>\n",
       "      <td>0.499992</td>\n",
       "      <td>0.000000</td>\n",
       "      <td>0.000000</td>\n",
       "      <td>0.599988</td>\n",
       "      <td>0.499992</td>\n",
       "      <td>0.0</td>\n",
       "      <td>...</td>\n",
       "      <td>-18.747462</td>\n",
       "      <td>-13.296392</td>\n",
       "      <td>3.561642</td>\n",
       "      <td>13.820512</td>\n",
       "      <td>-28.127375</td>\n",
       "      <td>-7.290573</td>\n",
       "      <td>7.580775</td>\n",
       "      <td>-8.787206</td>\n",
       "      <td>-13.999992</td>\n",
       "      <td>0.706706</td>\n",
       "    </tr>\n",
       "    <tr>\n",
       "      <th>2</th>\n",
       "      <td>366389</td>\n",
       "      <td>186388</td>\n",
       "      <td>0</td>\n",
       "      <td>0.333322</td>\n",
       "      <td>0.249994</td>\n",
       "      <td>1.999933</td>\n",
       "      <td>1.499963</td>\n",
       "      <td>2.333256</td>\n",
       "      <td>1.749956</td>\n",
       "      <td>0.0</td>\n",
       "      <td>...</td>\n",
       "      <td>0.929234</td>\n",
       "      <td>-10.354609</td>\n",
       "      <td>21.631635</td>\n",
       "      <td>-10.956507</td>\n",
       "      <td>-8.395287</td>\n",
       "      <td>12.498781</td>\n",
       "      <td>-0.680842</td>\n",
       "      <td>9.963056</td>\n",
       "      <td>14.397926</td>\n",
       "      <td>-3.247983</td>\n",
       "    </tr>\n",
       "    <tr>\n",
       "      <th>3</th>\n",
       "      <td>427923</td>\n",
       "      <td>247922</td>\n",
       "      <td>0</td>\n",
       "      <td>0.666644</td>\n",
       "      <td>0.666644</td>\n",
       "      <td>0.999967</td>\n",
       "      <td>0.999967</td>\n",
       "      <td>1.666611</td>\n",
       "      <td>1.666611</td>\n",
       "      <td>0.0</td>\n",
       "      <td>...</td>\n",
       "      <td>4.305560</td>\n",
       "      <td>-18.694009</td>\n",
       "      <td>16.570347</td>\n",
       "      <td>0.782899</td>\n",
       "      <td>-2.536946</td>\n",
       "      <td>15.027415</td>\n",
       "      <td>18.971905</td>\n",
       "      <td>6.783551</td>\n",
       "      <td>12.602017</td>\n",
       "      <td>-7.123621</td>\n",
       "    </tr>\n",
       "    <tr>\n",
       "      <th>4</th>\n",
       "      <td>486894</td>\n",
       "      <td>306893</td>\n",
       "      <td>0</td>\n",
       "      <td>0.333322</td>\n",
       "      <td>0.249994</td>\n",
       "      <td>0.333322</td>\n",
       "      <td>0.249994</td>\n",
       "      <td>0.666644</td>\n",
       "      <td>0.499988</td>\n",
       "      <td>0.0</td>\n",
       "      <td>...</td>\n",
       "      <td>4.112056</td>\n",
       "      <td>-28.006738</td>\n",
       "      <td>-2.954413</td>\n",
       "      <td>5.531563</td>\n",
       "      <td>11.234700</td>\n",
       "      <td>3.782200</td>\n",
       "      <td>-19.386668</td>\n",
       "      <td>5.713045</td>\n",
       "      <td>13.466615</td>\n",
       "      <td>-0.806065</td>\n",
       "    </tr>\n",
       "  </tbody>\n",
       "</table>\n",
       "<p>5 rows × 413 columns</p>\n",
       "</div>"
      ],
      "text/plain": [
       "    index      id  is_duplicate   cwc_min   cwc_max   csc_min   csc_max  \\\n",
       "0  521916  341915             0  0.428565  0.428565  0.285710  0.285710   \n",
       "1   43624   43623             0  0.599988  0.499992  0.000000  0.000000   \n",
       "2  366389  186388             0  0.333322  0.249994  1.999933  1.499963   \n",
       "3  427923  247922             0  0.666644  0.666644  0.999967  0.999967   \n",
       "4  486894  306893             0  0.333322  0.249994  0.333322  0.249994   \n",
       "\n",
       "    ctc_min   ctc_max  last_word_eq  ...     86_y_y     87_y_y     88_y_y  \\\n",
       "0  0.714276  0.714276           1.0  ...  -2.777638   7.548447  -2.188004   \n",
       "1  0.599988  0.499992           0.0  ... -18.747462 -13.296392   3.561642   \n",
       "2  2.333256  1.749956           0.0  ...   0.929234 -10.354609  21.631635   \n",
       "3  1.666611  1.666611           0.0  ...   4.305560 -18.694009  16.570347   \n",
       "4  0.666644  0.499988           0.0  ...   4.112056 -28.006738  -2.954413   \n",
       "\n",
       "      89_y_y     90_y_y     91_y_y     92_y_y     93_y_y     94_y_y     95_y_y  \n",
       "0  -0.445535 -14.497085   9.488895  -1.895818  13.178097  18.536980 -17.954488  \n",
       "1  13.820512 -28.127375  -7.290573   7.580775  -8.787206 -13.999992   0.706706  \n",
       "2 -10.956507  -8.395287  12.498781  -0.680842   9.963056  14.397926  -3.247983  \n",
       "3   0.782899  -2.536946  15.027415  18.971905   6.783551  12.602017  -7.123621  \n",
       "4   5.531563  11.234700   3.782200 -19.386668   5.713045  13.466615  -0.806065  \n",
       "\n",
       "[5 rows x 413 columns]"
      ]
     },
     "execution_count": 5,
     "metadata": {},
     "output_type": "execute_result"
    }
   ],
   "source": [
    "data.head()"
   ]
  },
  {
   "cell_type": "code",
   "execution_count": 6,
   "id": "6142b890",
   "metadata": {},
   "outputs": [
    {
     "data": {
      "text/plain": [
       "(100001, 413)"
      ]
     },
     "execution_count": 6,
     "metadata": {},
     "output_type": "execute_result"
    }
   ],
   "source": [
    "# shape of the data\n",
    "data.shape"
   ]
  },
  {
   "cell_type": "code",
   "execution_count": 7,
   "id": "7eb14290",
   "metadata": {},
   "outputs": [],
   "source": [
    "y_true = data['is_duplicate']\n",
    "data.drop(['id','index','is_duplicate'], axis=1, inplace=True)"
   ]
  },
  {
   "cell_type": "markdown",
   "id": "42c06c5c",
   "metadata": {},
   "source": [
    "***Converting Strings to Numeric values***"
   ]
  },
  {
   "cell_type": "code",
   "execution_count": 8,
   "id": "3f1a6cd5",
   "metadata": {},
   "outputs": [
    {
     "name": "stdout",
     "output_type": "stream",
     "text": [
      "cwc_min\n",
      "cwc_max\n",
      "csc_min\n",
      "csc_max\n",
      "ctc_min\n",
      "ctc_max\n",
      "last_word_eq\n",
      "first_word_eq\n",
      "abs_len_diff\n",
      "mean_len\n",
      "token_set_ratio\n",
      "token_sort_ratio\n",
      "fuzz_ratio\n",
      "fuzz_partial_ratio\n",
      "longest_substr_ratio\n",
      "freq_qid1\n",
      "freq_qid2\n",
      "q1len\n",
      "q2len\n",
      "q1_n_words\n",
      "q2_n_words\n",
      "word_common\n",
      "word_total\n",
      "word_share\n",
      "freq1+2\n",
      "freq1-2\n",
      "0_x_x\n",
      "1_x_x\n",
      "2_x_x\n",
      "3_x_x\n",
      "4_x_x\n",
      "5_x_x\n",
      "6_x_x\n",
      "7_x_x\n",
      "8_x_x\n",
      "9_x_x\n",
      "10_x_x\n",
      "11_x_x\n",
      "12_x_x\n",
      "13_x_x\n",
      "14_x_x\n",
      "15_x_x\n",
      "16_x_x\n",
      "17_x_x\n",
      "18_x_x\n",
      "19_x_x\n",
      "20_x_x\n",
      "21_x_x\n",
      "22_x_x\n",
      "23_x_x\n",
      "24_x_x\n",
      "25_x_x\n",
      "26_x_x\n",
      "27_x_x\n",
      "28_x_x\n",
      "29_x_x\n",
      "30_x_x\n",
      "31_x_x\n",
      "32_x_x\n",
      "33_x_x\n",
      "34_x_x\n",
      "35_x_x\n",
      "36_x_x\n",
      "37_x_x\n",
      "38_x_x\n",
      "39_x_x\n",
      "40_x_x\n",
      "41_x_x\n",
      "42_x_x\n",
      "43_x_x\n",
      "44_x_x\n",
      "45_x_x\n",
      "46_x_x\n",
      "47_x_x\n",
      "48_x_x\n",
      "49_x_x\n",
      "50_x_x\n",
      "51_x_x\n",
      "52_x_x\n",
      "53_x_x\n",
      "54_x_x\n",
      "55_x_x\n",
      "56_x_x\n",
      "57_x_x\n",
      "58_x_x\n",
      "59_x_x\n",
      "60_x_x\n",
      "61_x_x\n",
      "62_x_x\n",
      "63_x_x\n",
      "64_x_x\n",
      "65_x_x\n",
      "66_x_x\n",
      "67_x_x\n",
      "68_x_x\n",
      "69_x_x\n",
      "70_x_x\n",
      "71_x_x\n",
      "72_x_x\n",
      "73_x_x\n",
      "74_x_x\n",
      "75_x_x\n",
      "76_x_x\n",
      "77_x_x\n",
      "78_x_x\n",
      "79_x_x\n",
      "80_x_x\n",
      "81_x_x\n",
      "82_x_x\n",
      "83_x_x\n",
      "84_x_x\n",
      "85_x_x\n",
      "86_x_x\n",
      "87_x_x\n",
      "88_x_x\n",
      "89_x_x\n",
      "90_x_x\n",
      "91_x_x\n",
      "92_x_x\n",
      "93_x_x\n",
      "94_x_x\n",
      "95_x_x\n",
      "0_y_x\n",
      "1_y_x\n",
      "2_y_x\n",
      "3_y_x\n",
      "4_y_x\n",
      "5_y_x\n",
      "6_y_x\n",
      "7_y_x\n",
      "8_y_x\n",
      "9_y_x\n",
      "10_y_x\n",
      "11_y_x\n",
      "12_y_x\n",
      "13_y_x\n",
      "14_y_x\n",
      "15_y_x\n",
      "16_y_x\n",
      "17_y_x\n",
      "18_y_x\n",
      "19_y_x\n",
      "20_y_x\n",
      "21_y_x\n",
      "22_y_x\n",
      "23_y_x\n",
      "24_y_x\n",
      "25_y_x\n",
      "26_y_x\n",
      "27_y_x\n",
      "28_y_x\n",
      "29_y_x\n",
      "30_y_x\n",
      "31_y_x\n",
      "32_y_x\n",
      "33_y_x\n",
      "34_y_x\n",
      "35_y_x\n",
      "36_y_x\n",
      "37_y_x\n",
      "38_y_x\n",
      "39_y_x\n",
      "40_y_x\n",
      "41_y_x\n",
      "42_y_x\n",
      "43_y_x\n",
      "44_y_x\n",
      "45_y_x\n",
      "46_y_x\n",
      "47_y_x\n",
      "48_y_x\n",
      "49_y_x\n",
      "50_y_x\n",
      "51_y_x\n",
      "52_y_x\n",
      "53_y_x\n",
      "54_y_x\n",
      "55_y_x\n",
      "56_y_x\n",
      "57_y_x\n",
      "58_y_x\n",
      "59_y_x\n",
      "60_y_x\n",
      "61_y_x\n",
      "62_y_x\n",
      "63_y_x\n",
      "64_y_x\n",
      "65_y_x\n",
      "66_y_x\n",
      "67_y_x\n",
      "68_y_x\n",
      "69_y_x\n",
      "70_y_x\n",
      "71_y_x\n",
      "72_y_x\n",
      "73_y_x\n",
      "74_y_x\n",
      "75_y_x\n",
      "76_y_x\n",
      "77_y_x\n",
      "78_y_x\n",
      "79_y_x\n",
      "80_y_x\n",
      "81_y_x\n",
      "82_y_x\n",
      "83_y_x\n",
      "84_y_x\n",
      "85_y_x\n",
      "86_y_x\n",
      "87_y_x\n",
      "88_y_x\n",
      "89_y_x\n",
      "90_y_x\n",
      "91_y_x\n",
      "92_y_x\n",
      "93_y_x\n",
      "94_y_x\n",
      "95_y_x\n",
      "0_x_y\n",
      "1_x_y\n",
      "2_x_y\n",
      "3_x_y\n",
      "4_x_y\n",
      "5_x_y\n",
      "6_x_y\n",
      "7_x_y\n",
      "8_x_y\n",
      "9_x_y\n",
      "10_x_y\n",
      "11_x_y\n",
      "12_x_y\n",
      "13_x_y\n",
      "14_x_y\n",
      "15_x_y\n",
      "16_x_y\n",
      "17_x_y\n",
      "18_x_y\n",
      "19_x_y\n",
      "20_x_y\n",
      "21_x_y\n",
      "22_x_y\n",
      "23_x_y\n",
      "24_x_y\n",
      "25_x_y\n",
      "26_x_y\n",
      "27_x_y\n",
      "28_x_y\n",
      "29_x_y\n",
      "30_x_y\n",
      "31_x_y\n",
      "32_x_y\n",
      "33_x_y\n",
      "34_x_y\n",
      "35_x_y\n",
      "36_x_y\n",
      "37_x_y\n",
      "38_x_y\n",
      "39_x_y\n",
      "40_x_y\n",
      "41_x_y\n",
      "42_x_y\n",
      "43_x_y\n",
      "44_x_y\n",
      "45_x_y\n",
      "46_x_y\n",
      "47_x_y\n",
      "48_x_y\n",
      "49_x_y\n",
      "50_x_y\n",
      "51_x_y\n",
      "52_x_y\n",
      "53_x_y\n",
      "54_x_y\n",
      "55_x_y\n",
      "56_x_y\n",
      "57_x_y\n",
      "58_x_y\n",
      "59_x_y\n",
      "60_x_y\n",
      "61_x_y\n",
      "62_x_y\n",
      "63_x_y\n",
      "64_x_y\n",
      "65_x_y\n",
      "66_x_y\n",
      "67_x_y\n",
      "68_x_y\n",
      "69_x_y\n",
      "70_x_y\n",
      "71_x_y\n",
      "72_x_y\n",
      "73_x_y\n",
      "74_x_y\n",
      "75_x_y\n",
      "76_x_y\n",
      "77_x_y\n",
      "78_x_y\n",
      "79_x_y\n",
      "80_x_y\n",
      "81_x_y\n",
      "82_x_y\n",
      "83_x_y\n",
      "84_x_y\n",
      "85_x_y\n",
      "86_x_y\n",
      "87_x_y\n",
      "88_x_y\n",
      "89_x_y\n",
      "90_x_y\n",
      "91_x_y\n",
      "92_x_y\n",
      "93_x_y\n",
      "94_x_y\n",
      "95_x_y\n",
      "0_y_y\n",
      "1_y_y\n",
      "2_y_y\n",
      "3_y_y\n",
      "4_y_y\n",
      "5_y_y\n",
      "6_y_y\n",
      "7_y_y\n",
      "8_y_y\n",
      "9_y_y\n",
      "10_y_y\n",
      "11_y_y\n",
      "12_y_y\n",
      "13_y_y\n",
      "14_y_y\n",
      "15_y_y\n",
      "16_y_y\n",
      "17_y_y\n",
      "18_y_y\n",
      "19_y_y\n",
      "20_y_y\n",
      "21_y_y\n",
      "22_y_y\n",
      "23_y_y\n",
      "24_y_y\n",
      "25_y_y\n",
      "26_y_y\n",
      "27_y_y\n",
      "28_y_y\n",
      "29_y_y\n",
      "30_y_y\n",
      "31_y_y\n",
      "32_y_y\n",
      "33_y_y\n",
      "34_y_y\n",
      "35_y_y\n",
      "36_y_y\n",
      "37_y_y\n",
      "38_y_y\n",
      "39_y_y\n",
      "40_y_y\n",
      "41_y_y\n",
      "42_y_y\n",
      "43_y_y\n",
      "44_y_y\n",
      "45_y_y\n",
      "46_y_y\n",
      "47_y_y\n",
      "48_y_y\n",
      "49_y_y\n",
      "50_y_y\n",
      "51_y_y\n",
      "52_y_y\n",
      "53_y_y\n",
      "54_y_y\n",
      "55_y_y\n",
      "56_y_y\n",
      "57_y_y\n",
      "58_y_y\n",
      "59_y_y\n",
      "60_y_y\n",
      "61_y_y\n",
      "62_y_y\n",
      "63_y_y\n",
      "64_y_y\n",
      "65_y_y\n",
      "66_y_y\n",
      "67_y_y\n",
      "68_y_y\n",
      "69_y_y\n",
      "70_y_y\n",
      "71_y_y\n",
      "72_y_y\n",
      "73_y_y\n",
      "74_y_y\n",
      "75_y_y\n",
      "76_y_y\n",
      "77_y_y\n",
      "78_y_y\n",
      "79_y_y\n",
      "80_y_y\n",
      "81_y_y\n",
      "82_y_y\n",
      "83_y_y\n",
      "84_y_y\n",
      "85_y_y\n",
      "86_y_y\n",
      "87_y_y\n",
      "88_y_y\n",
      "89_y_y\n",
      "90_y_y\n",
      "91_y_y\n",
      "92_y_y\n",
      "93_y_y\n",
      "94_y_y\n",
      "95_y_y\n"
     ]
    }
   ],
   "source": [
    "cols = list(data.columns)\n",
    "for i in cols:\n",
    "    data[i] = data[i].apply(pd.to_numeric)\n",
    "    print(i)"
   ]
  },
  {
   "cell_type": "code",
   "execution_count": 9,
   "id": "b7f9fc07",
   "metadata": {},
   "outputs": [],
   "source": [
    "# mapping true labels to int\n",
    "y_true = list(map(int, y_true.values))"
   ]
  },
  {
   "cell_type": "markdown",
   "id": "006dc1ea",
   "metadata": {},
   "source": [
    "***Random Train-Test Split***"
   ]
  },
  {
   "cell_type": "code",
   "execution_count": 10,
   "id": "84c53465",
   "metadata": {},
   "outputs": [],
   "source": [
    "X_train, X_test, y_train, y_test = train_test_split(data, y_true, stratify=y_true, test_size=0.3)"
   ]
  },
  {
   "cell_type": "code",
   "execution_count": 11,
   "id": "021dbce5",
   "metadata": {},
   "outputs": [
    {
     "name": "stdout",
     "output_type": "stream",
     "text": [
      "Shape of Training Data: (70000, 410), (70000)\n",
      "Shape of Test Data: (30001, 410), (30001)\n"
     ]
    }
   ],
   "source": [
    "print(f\"Shape of Training Data: {X_train.shape}, ({len(y_train)})\")\n",
    "print(f\"Shape of Test Data: {X_test.shape}, ({len(y_test)})\")"
   ]
  },
  {
   "cell_type": "code",
   "execution_count": 12,
   "id": "af010c70",
   "metadata": {},
   "outputs": [
    {
     "name": "stdout",
     "output_type": "stream",
     "text": [
      "Distribution in Train Data:\n",
      "Class 0: 0.6301142857142857 \n",
      "Class 1: 0.36988571428571426\n",
      "--------------------------------------------------\n",
      "Distribution in Test Data:\n",
      "Class 0: 0.6301123295890138 \n",
      "Class 1: 0.3698876704109863\n"
     ]
    }
   ],
   "source": [
    "# Distribution of output variable(y_true) in train and test data\n",
    "\n",
    "train_dist = Counter(y_train)\n",
    "train_len = len(y_train)\n",
    "test_dist = Counter(y_test)\n",
    "test_len = len(y_test)\n",
    "\n",
    "print(\"Distribution in Train Data:\")\n",
    "print(f\"Class 0: {int(train_dist[0])/train_len} \\nClass 1: {int(train_dist[1])/train_len}\")\n",
    "print(\"-\" * 50)\n",
    "print(\"Distribution in Test Data:\")\n",
    "print(f\"Class 0: {int(test_dist[0])/test_len} \\nClass 1: {int(test_dist[1])/test_len}\")"
   ]
  },
  {
   "cell_type": "markdown",
   "id": "8dd36e75",
   "metadata": {},
   "source": [
    "- As we see that the distribution of Y label is same in both Train and Test datasets."
   ]
  },
  {
   "cell_type": "markdown",
   "id": "b43c7328",
   "metadata": {},
   "source": [
    "### Baseline Model - Random Model"
   ]
  },
  {
   "cell_type": "code",
   "execution_count": 23,
   "id": "039cb3a6",
   "metadata": {},
   "outputs": [],
   "source": [
    "predicted_baseline = np.zeros((len(y_test), 2))"
   ]
  },
  {
   "cell_type": "code",
   "execution_count": 34,
   "id": "80e16b36",
   "metadata": {},
   "outputs": [],
   "source": [
    "# getting random predictions:\n",
    "for i in range(len(y_test)):\n",
    "    random_probs = np.random.rand(1, 2)\n",
    "    predicted_baseline[i] = ((random_probs/sum(sum(random_probs)))[0])  # normalizing so that sum of both probs is 1."
   ]
  },
  {
   "cell_type": "code",
   "execution_count": 37,
   "id": "eba1a55c",
   "metadata": {},
   "outputs": [
    {
     "name": "stdout",
     "output_type": "stream",
     "text": [
      "Log Loss of the Random Model: 0.891008740800998\n"
     ]
    }
   ],
   "source": [
    "# getting the log loss\n",
    "log_loss_baseline = log_loss(y_test, predicted_baseline)\n",
    "print(f\"Log Loss of the Random Model: {log_loss_baseline}\")"
   ]
  },
  {
   "cell_type": "code",
   "execution_count": 41,
   "id": "e8280e71",
   "metadata": {},
   "outputs": [
    {
     "data": {
      "image/png": "[encoded data removed]",
      "text/plain": [
       "<Figure size 432x288 with 2 Axes>"
      ]
     },
     "metadata": {
      "needs_background": "light"
     },
     "output_type": "display_data"
    }
   ],
   "source": [
    "# plotting the confusion matrix\n",
    "baseline_pred_labels = np.argmax(predicted_baseline, axis=1)\n",
    "plot_conf_matrix(y_test, baseline_pred_labels)"
   ]
  },
  {
   "cell_type": "code",
   "execution_count": 45,
   "id": "e2f20a9e",
   "metadata": {},
   "outputs": [
    {
     "name": "stdout",
     "output_type": "stream",
     "text": [
      "              precision    recall  f1-score   support\n",
      "\n",
      "           0       0.64      0.50      0.56     18965\n",
      "           1       0.37      0.51      0.43     11036\n",
      "\n",
      "    accuracy                           0.50     30001\n",
      "   macro avg       0.50      0.50      0.49     30001\n",
      "weighted avg       0.54      0.50      0.51     30001\n",
      "\n"
     ]
    }
   ],
   "source": [
    "print(classification_report(y_test, baseline_pred_labels))"
   ]
  },
  {
   "cell_type": "markdown",
   "id": "4b2fcee5",
   "metadata": {},
   "source": [
    "### Logistic Regression"
   ]
  },
  {
   "cell_type": "markdown",
   "id": "61331c6b",
   "metadata": {},
   "source": [
    "***Logistic Regression with Default Hyperparameters***"
   ]
  },
  {
   "cell_type": "code",
   "execution_count": 55,
   "id": "7aeb5bbf",
   "metadata": {},
   "outputs": [
    {
     "name": "stdout",
     "output_type": "stream",
     "text": [
      "INFO: 'logistic_regression_default' does not exist. Creating a new experiment\n",
      "Training accuracy: 76.21%\n",
      "Validation Accuracy: 0.76190793640212\n",
      "AUC Score: 0.7236184466205894\n",
      "Precision: 0.7191757684945389\n",
      "Recall: 0.5787422979340341\n",
      "F1 Score: 0.6413616508510318\n"
     ]
    },
    {
     "data": {
      "image/png": "[encoded data removed]",
      "text/plain": [
       "<Figure size 432x288 with 1 Axes>"
      ]
     },
     "metadata": {
      "needs_background": "light"
     },
     "output_type": "display_data"
    },
    {
     "name": "stdout",
     "output_type": "stream",
     "text": [
      "Model Run: a30da6a54e5d46d9910ab407453bbbef\n"
     ]
    },
    {
     "data": {
      "image/png": "[encoded data removed]",
      "text/plain": [
       "<Figure size 432x288 with 2 Axes>"
      ]
     },
     "metadata": {
      "needs_background": "light"
     },
     "output_type": "display_data"
    }
   ],
   "source": [
    "# Creating LogisticRegression model with Default Hyperparameters\n",
    "logreg_model_def = LogisticRegression(random_state=42)\n",
    "\n",
    "mlflow.set_experiment('logistic_regression_default')\n",
    "with mlflow.start_run():\n",
    "    # training the model\n",
    "    train_model(logreg_model_def, X_train, y_train)\n",
    "    # evaluating the model\n",
    "    evaluate_model(logreg_model_def, X_test, y_test)\n",
    "    # logging the model\n",
    "    mlflow.sklearn.log_model(logreg_model_def, 'logistic_regression_default_model')\n",
    "    \n",
    "    # printing the model info\n",
    "    print(f\"Model Run: {mlflow.active_run().info.run_uuid}\")\n",
    "    \n",
    "mlflow.end_run()"
   ]
  },
  {
   "cell_type": "markdown",
   "id": "3ad374ae",
   "metadata": {},
   "source": [
    "```\n",
    "Model Info: 'runs:/a30da6a54e5d46d9910ab407453bbbef/logistic_regression_default_model'\n",
    "```"
   ]
  },
  {
   "cell_type": "markdown",
   "id": "5777ecc7",
   "metadata": {},
   "source": [
    "***Hyperparameter Tuning***\n",
    "\n",
    "- Using `hyperopt` for tuning."
   ]
  },
  {
   "cell_type": "code",
   "execution_count": 16,
   "id": "db6e322a",
   "metadata": {},
   "outputs": [
    {
     "data": {
      "text/plain": [
       "{'penalty': <hyperopt.pyll.base.Apply at 0x2080b988100>,\n",
       " 'solver': <hyperopt.pyll.base.Apply at 0x2080b984f40>,\n",
       " 'C': <hyperopt.pyll.base.Apply at 0x2080b984c40>,\n",
       " 'fit_intercept': <hyperopt.pyll.base.Apply at 0x2080b984940>}"
      ]
     },
     "execution_count": 16,
     "metadata": {},
     "output_type": "execute_result"
    }
   ],
   "source": [
    "# setting the space\n",
    "space = {\n",
    "    'penalty': hp.choice('penalty', ['l1', 'l2', 'elastic']),\n",
    "    'solver': hp.choice('solver', ['newton-cg', 'lbfgs', 'liblinear', 'sag', 'saga']),\n",
    "    'C': hp.choice('C', [0.001, 0.01, 0.1, 1, 10, 100, 1000]),\n",
    "    'fit_intercept': hp.choice('fit_intercept', [True, False])\n",
    "}\n",
    "space"
   ]
  },
  {
   "cell_type": "code",
   "execution_count": 17,
   "id": "fb2f3a4b",
   "metadata": {},
   "outputs": [],
   "source": [
    "# objective function\n",
    "def objective(space):\n",
    "    logreg = LogisticRegression(penalty=space['penalty'],\n",
    "                               solver=space['solver'],\n",
    "                               C=space['C'],\n",
    "                               fit_intercept=space['fit_intercept'])\n",
    "    \n",
    "    accuracy = cross_val_score(logreg, X_train, y_train, cv=5).mean()\n",
    "    \n",
    "    return {'loss': -accuracy, 'status': STATUS_OK} # negative accuracy as objective function minimizes loss."
   ]
  },
  {
   "cell_type": "code",
   "execution_count": 18,
   "id": "4dd386c0",
   "metadata": {},
   "outputs": [
    {
     "name": "stdout",
     "output_type": "stream",
     "text": [
      "100%|████████████████████████████████████████████████████████████████████████████████████████████| 80/80 [4:26:12<00:00, 199.65s/trial, best loss: -0.7962142857142858]\n"
     ]
    }
   ],
   "source": [
    "# running the hyperopt function\n",
    "trials = Trials()\n",
    "best = fmin(fn=objective, \n",
    "           space=space, \n",
    "           algo=tpe.suggest,\n",
    "           max_evals=80,\n",
    "           trials=trials)"
   ]
  },
  {
   "cell_type": "code",
   "execution_count": 19,
   "id": "bd58e612",
   "metadata": {},
   "outputs": [
    {
     "data": {
      "text/plain": [
       "{'C': 1, 'fit_intercept': 0, 'penalty': 1, 'solver': 0}"
      ]
     },
     "execution_count": 19,
     "metadata": {},
     "output_type": "execute_result"
    }
   ],
   "source": [
    "best"
   ]
  },
  {
   "cell_type": "code",
   "execution_count": 20,
   "id": "201e62b5",
   "metadata": {},
   "outputs": [],
   "source": [
    "C = [0.001, 0.01, 0.1, 1, 10, 100, 1000]\n",
    "fit_intercept = [True, False]\n",
    "solver = ['newton-cg', 'lbfgs', 'liblinear', 'sag', 'saga']\n",
    "penalty = ['l1', 'l2', 'elastic']"
   ]
  },
  {
   "cell_type": "code",
   "execution_count": 23,
   "id": "b1cf669b",
   "metadata": {},
   "outputs": [],
   "source": [
    "# best hyperparameters:\n",
    "best_C = C[best['C']]\n",
    "fit_int = fit_intercept[best['fit_intercept']]\n",
    "best_solver = solver[best['solver']]\n",
    "best_penalty = penalty[best['penalty']]"
   ]
  },
  {
   "cell_type": "code",
   "execution_count": 24,
   "id": "f791c5ce",
   "metadata": {},
   "outputs": [
    {
     "data": {
      "text/plain": [
       "(0.01, True, 'newton-cg', 'l2')"
      ]
     },
     "execution_count": 24,
     "metadata": {},
     "output_type": "execute_result"
    }
   ],
   "source": [
    "best_C, fit_int, best_solver, best_penalty"
   ]
  },
  {
   "cell_type": "code",
   "execution_count": 25,
   "id": "65632a32",
   "metadata": {},
   "outputs": [],
   "source": [
    "# building Logistic Regression with tuned hyperparameters\n",
    "logreg_tuned = LogisticRegression(penalty=best_penalty, C=best_C,\n",
    "                                 fit_intercept=fit_int, solver=best_solver)"
   ]
  },
  {
   "cell_type": "code",
   "execution_count": 26,
   "id": "473441cb",
   "metadata": {},
   "outputs": [
    {
     "data": {
      "text/plain": [
       "LogisticRegression(C=0.01, solver='newton-cg')"
      ]
     },
     "execution_count": 26,
     "metadata": {},
     "output_type": "execute_result"
    }
   ],
   "source": [
    "logreg_tuned"
   ]
  },
  {
   "cell_type": "code",
   "execution_count": 28,
   "id": "e53ddb15",
   "metadata": {},
   "outputs": [
    {
     "name": "stdout",
     "output_type": "stream",
     "text": [
      "Training accuracy: 79.87%\n",
      "Validation Accuracy: 0.7945401819939335\n",
      "AUC Score: 0.7648338309357943\n",
      "Precision: 0.7566943190171165\n",
      "Recall: 0.6519496969148647\n",
      "F1 Score: 0.7004276827371695\n"
     ]
    },
    {
     "data": {
      "image/png": "[encoded data removed]",
      "text/plain": [
       "<Figure size 432x288 with 1 Axes>"
      ]
     },
     "metadata": {
      "needs_background": "light"
     },
     "output_type": "display_data"
    },
    {
     "name": "stdout",
     "output_type": "stream",
     "text": [
      "Model Run: 3a79b64f8b3f4dc3a95d9e39f82db427\n"
     ]
    },
    {
     "data": {
      "image/png": "[encoded data removed]",
      "text/plain": [
       "<Figure size 432x288 with 2 Axes>"
      ]
     },
     "metadata": {
      "needs_background": "light"
     },
     "output_type": "display_data"
    }
   ],
   "source": [
    "# setting up the mlflow experiment\n",
    "mlflow.set_experiment('logistic_regression_tuned')\n",
    "\n",
    "with mlflow.start_run():\n",
    "    train_model(logreg_tuned, X_train, y_train)\n",
    "    evaluate_model(logreg_tuned, X_test, y_test)\n",
    "    \n",
    "    # logging the model\n",
    "    mlflow.sklearn.log_model(logreg_tuned, \"logistic_regression_tuned_model\")\n",
    "    print(f\"Model Run: {mlflow.active_run().info.run_uuid}\")\n",
    "\n",
    "mlflow.end_run()"
   ]
  },
  {
   "cell_type": "markdown",
   "id": "f6c2be07",
   "metadata": {},
   "source": [
    "- The ***Tuned Logistic Regression Model*** performs better than the ***Default Logistic Regression Model***\n",
    "- Validation Accuracy: 79.45% (default: 76.1%)\n",
    "- F1 Score: .700 (Default: 0.6413)"
   ]
  },
  {
   "cell_type": "markdown",
   "id": "fdc1f344",
   "metadata": {},
   "source": [
    "### SVM Classifier"
   ]
  },
  {
   "cell_type": "markdown",
   "id": "beaa4609",
   "metadata": {},
   "source": [
    "***SVC with Default Hyperparameters***"
   ]
  },
  {
   "cell_type": "code",
   "execution_count": 31,
   "id": "f3c1e7d7",
   "metadata": {},
   "outputs": [
    {
     "name": "stdout",
     "output_type": "stream",
     "text": [
      "INFO: 'svm_default' does not exist. Creating a new experiment\n",
      "Training accuracy: 78.00%\n",
      "Validation Accuracy: 0.7726742441918603\n",
      "AUC Score: 0.7409074459422781\n",
      "Precision: 0.7233301677746122\n",
      "Recall: 0.620193612593866\n",
      "F1 Score: 0.6678032148075987\n"
     ]
    },
    {
     "data": {
      "image/png": "[encoded data removed]",
      "text/plain": [
       "<Figure size 432x288 with 1 Axes>"
      ]
     },
     "metadata": {
      "needs_background": "light"
     },
     "output_type": "display_data"
    },
    {
     "name": "stdout",
     "output_type": "stream",
     "text": [
      "Model Run: 4975e78d50d64ff08f3414e62ccb2cba\n"
     ]
    },
    {
     "data": {
      "image/png": "[encoded data removed]",
      "text/plain": [
       "<Figure size 432x288 with 2 Axes>"
      ]
     },
     "metadata": {
      "needs_background": "light"
     },
     "output_type": "display_data"
    }
   ],
   "source": [
    "svm_def = SVC(random_state=42)\n",
    "\n",
    "mlflow.set_experiment(\"svm_default\")\n",
    "with mlflow.start_run():\n",
    "    train_model(svm_def, X_train, y_train)\n",
    "    evaluate_model(svm_def, X_test, y_test)\n",
    "    \n",
    "    # logging the model\n",
    "    mlflow.sklearn.log_model(svm_def, \"svm_default_model\")\n",
    "    print(f\"Model Run: {mlflow.active_run().info.run_uuid}\")\n",
    "\n",
    "mlflow.end_run()"
   ]
  },
  {
   "cell_type": "markdown",
   "id": "1d0567b7",
   "metadata": {},
   "source": [
    "### XGBoost Classifier"
   ]
  },
  {
   "cell_type": "markdown",
   "id": "25cf0c20",
   "metadata": {},
   "source": [
    "***XGBoost with default hyperparameters***"
   ]
  },
  {
   "cell_type": "code",
   "execution_count": 24,
   "id": "4f67589a",
   "metadata": {},
   "outputs": [
    {
     "name": "stdout",
     "output_type": "stream",
     "text": [
      "INFO: 'xgb_default' does not exist. Creating a new experiment\n",
      "[08:42:08] WARNING: C:/Users/Administrator/workspace/xgboost-win64_release_1.4.0/src/learner.cc:1095: Starting in XGBoost 1.3.0, the default evaluation metric used with the objective 'binary:logistic' was changed from 'error' to 'logloss'. Explicitly set eval_metric if you'd like to restore the old behavior.\n",
      "Training accuracy: 93.22%\n",
      "Validation Accuracy: 0.8300389987000434\n",
      "AUC Score: 0.8119110012461288\n",
      "Precision: 0.7841657912329291\n",
      "Recall: 0.7430769230769231\n",
      "F1 Score: 0.7630686306398401\n"
     ]
    },
    {
     "data": {
      "image/png": "[encoded data removed]",
      "text/plain": [
       "<Figure size 432x288 with 1 Axes>"
      ]
     },
     "metadata": {
      "needs_background": "light"
     },
     "output_type": "display_data"
    },
    {
     "name": "stdout",
     "output_type": "stream",
     "text": [
      "Model Run: c4d30576d95340d7b842bac5647876c9\n"
     ]
    },
    {
     "data": {
      "image/png": "[encoded data removed]",
      "text/plain": [
       "<Figure size 432x288 with 2 Axes>"
      ]
     },
     "metadata": {
      "needs_background": "light"
     },
     "output_type": "display_data"
    }
   ],
   "source": [
    "# setting up the mlflow experiment\n",
    "xgb_model_def = xgb.XGBClassifier()\n",
    "\n",
    "mlflow.set_experiment(\"xgb_default\")\n",
    "with mlflow.start_run():\n",
    "    # training the model\n",
    "    train_model(xgb_model_def, X_train, y_train)\n",
    "    # evaluate the model\n",
    "    evaluate_model(xgb_model_def, X_test, y_test)\n",
    "    \n",
    "    # logging the model\n",
    "    mlflow.sklearn.log_model(xgb_model_def, \"xgboost_default_model\")\n",
    "    print(f\"Model Run: {mlflow.active_run().info.run_uuid}\")\n",
    "    \n",
    "mlflow.end_run()"
   ]
  },
  {
   "cell_type": "markdown",
   "id": "ab955cec",
   "metadata": {},
   "source": [
    "*XGBoost with default hyperparameters is overfitting.*"
   ]
  },
  {
   "cell_type": "markdown",
   "id": "68425b69",
   "metadata": {},
   "source": [
    "***XGBoost Hyperparameter Tuning***"
   ]
  },
  {
   "cell_type": "code",
   "execution_count": 65,
   "id": "dbfd39a7",
   "metadata": {},
   "outputs": [],
   "source": [
    "# space\n",
    "space = {\n",
    "        'n_estimators': hp.choice('n_estimators', np.arange(100, 1000, 100, dtype=int)),\n",
    "        'learning_rate': hp.quniform('learning_rate', 0.025, 0.5, 0.025),\n",
    "        # A problem with max_depth casted to float instead of int with\n",
    "        # the hp.quniform method.\n",
    "        'max_depth':  hp.choice('max_depth', np.arange(1, 14, dtype=int)),\n",
    "        'min_child_weight': hp.quniform('min_child_weight', 1, 6, 1),\n",
    "        'subsample': hp.quniform('subsample', 0.5, 1, 0.05),\n",
    "        'gamma': hp.quniform('gamma', 0.5, 1, 0.05),\n",
    "        'colsample_bytree': hp.quniform('colsample_bytree', 0.5, 1, 0.05),\n",
    "        'objective': 'binary:logistic',\n",
    "        'booster': 'gbtree',\n",
    "        'tree_method': 'exact',\n",
    "        'silent': 1,\n",
    "}"
   ]
  },
  {
   "cell_type": "code",
   "execution_count": 66,
   "id": "38f51507",
   "metadata": {},
   "outputs": [],
   "source": [
    "# setting up the objective function\n",
    "def objective(space):\n",
    "    xgb_model_tuned = xgb.XGBClassifier(n_estimators=space['n_estimators'],\n",
    "                                       learning_rate=space['learning_rate'],\n",
    "                                       max_depth=space['max_depth'],\n",
    "                                       min_child_weight=space['min_child_weight'],\n",
    "                                       gamma=space['gamma'],\n",
    "                                       subsample=space['subsample'],\n",
    "                                       colsample_bytree=space['colsample_bytree'],\n",
    "                                       objective=space['objective'],\n",
    "                                       booster=space['booster'],\n",
    "                                       tree_method=space['tree_method'],)\n",
    "    \n",
    "    xgb_model_tuned.fit(X_train, y_train)\n",
    "    predictions = xgb_model_tuned.predict(X_test)\n",
    "    score = roc_auc_score(y_test, predictions)\n",
    "    loss = 1 - score\n",
    "    return {'loss': loss, 'status': STATUS_OK}"
   ]
  },
  {
   "cell_type": "code",
   "execution_count": 67,
   "id": "93426643",
   "metadata": {},
   "outputs": [
    {
     "name": "stdout",
     "output_type": "stream",
     "text": [
      "[11:05:50] WARNING: C:/Users/Administrator/workspace/xgboost-win64_release_1.4.0/src/learner.cc:1095: Starting in XGBoost 1.3.0, the default evaluation metric used with the objective 'binary:logistic' was changed from 'error' to 'logloss'. Explicitly set eval_metric if you'd like to restore the old behavior.\n",
      "[11:08:12] WARNING: C:/Users/Administrator/workspace/xgboost-win64_release_1.4.0/src/learner.cc:1095: Starting in XGBoost 1.3.0, the default evaluation metric used with the objective 'binary:logistic' was changed from 'error' to 'logloss'. Explicitly set eval_metric if you'd like to restore the old behavior.\n",
      "[11:10:46] WARNING: C:/Users/Administrator/workspace/xgboost-win64_release_1.4.0/src/learner.cc:1095: Starting in XGBoost 1.3.0, the default evaluation metric used with the objective 'binary:logistic' was changed from 'error' to 'logloss'. Explicitly set eval_metric if you'd like to restore the old behavior.\n",
      "[12:01:53] WARNING: C:/Users/Administrator/workspace/xgboost-win64_release_1.4.0/src/learner.cc:1095: Starting in XGBoost 1.3.0, the default evaluation metric used with the objective 'binary:logistic' was changed from 'error' to 'logloss'. Explicitly set eval_metric if you'd like to restore the old behavior.\n",
      "[12:03:24] WARNING: C:/Users/Administrator/workspace/xgboost-win64_release_1.4.0/src/learner.cc:1095: Starting in XGBoost 1.3.0, the default evaluation metric used with the objective 'binary:logistic' was changed from 'error' to 'logloss'. Explicitly set eval_metric if you'd like to restore the old behavior.\n",
      "[12:09:26] WARNING: C:/Users/Administrator/workspace/xgboost-win64_release_1.4.0/src/learner.cc:1095: Starting in XGBoost 1.3.0, the default evaluation metric used with the objective 'binary:logistic' was changed from 'error' to 'logloss'. Explicitly set eval_metric if you'd like to restore the old behavior.\n",
      "[12:11:30] WARNING: C:/Users/Administrator/workspace/xgboost-win64_release_1.4.0/src/learner.cc:1095: Starting in XGBoost 1.3.0, the default evaluation metric used with the objective 'binary:logistic' was changed from 'error' to 'logloss'. Explicitly set eval_metric if you'd like to restore the old behavior.\n",
      "[12:22:31] WARNING: C:/Users/Administrator/workspace/xgboost-win64_release_1.4.0/src/learner.cc:1095: Starting in XGBoost 1.3.0, the default evaluation metric used with the objective 'binary:logistic' was changed from 'error' to 'logloss'. Explicitly set eval_metric if you'd like to restore the old behavior.\n",
      "[12:24:22] WARNING: C:/Users/Administrator/workspace/xgboost-win64_release_1.4.0/src/learner.cc:1095: Starting in XGBoost 1.3.0, the default evaluation metric used with the objective 'binary:logistic' was changed from 'error' to 'logloss'. Explicitly set eval_metric if you'd like to restore the old behavior.\n",
      "[12:46:15] WARNING: C:/Users/Administrator/workspace/xgboost-win64_release_1.4.0/src/learner.cc:1095: Starting in XGBoost 1.3.0, the default evaluation metric used with the objective 'binary:logistic' was changed from 'error' to 'logloss'. Explicitly set eval_metric if you'd like to restore the old behavior.\n",
      "[12:54:23] WARNING: C:/Users/Administrator/workspace/xgboost-win64_release_1.4.0/src/learner.cc:1095: Starting in XGBoost 1.3.0, the default evaluation metric used with the objective 'binary:logistic' was changed from 'error' to 'logloss'. Explicitly set eval_metric if you'd like to restore the old behavior.\n",
      "[12:58:14] WARNING: C:/Users/Administrator/workspace/xgboost-win64_release_1.4.0/src/learner.cc:1095: Starting in XGBoost 1.3.0, the default evaluation metric used with the objective 'binary:logistic' was changed from 'error' to 'logloss'. Explicitly set eval_metric if you'd like to restore the old behavior.\n",
      "[13:16:28] WARNING: C:/Users/Administrator/workspace/xgboost-win64_release_1.4.0/src/learner.cc:1095: Starting in XGBoost 1.3.0, the default evaluation metric used with the objective 'binary:logistic' was changed from 'error' to 'logloss'. Explicitly set eval_metric if you'd like to restore the old behavior.\n",
      "[13:21:10] WARNING: C:/Users/Administrator/workspace/xgboost-win64_release_1.4.0/src/learner.cc:1095: Starting in XGBoost 1.3.0, the default evaluation metric used with the objective 'binary:logistic' was changed from 'error' to 'logloss'. Explicitly set eval_metric if you'd like to restore the old behavior.\n",
      "[13:34:42] WARNING: C:/Users/Administrator/workspace/xgboost-win64_release_1.4.0/src/learner.cc:1095: Starting in XGBoost 1.3.0, the default evaluation metric used with the objective 'binary:logistic' was changed from 'error' to 'logloss'. Explicitly set eval_metric if you'd like to restore the old behavior.\n",
      "[14:07:02] WARNING: C:/Users/Administrator/workspace/xgboost-win64_release_1.4.0/src/learner.cc:1095: Starting in XGBoost 1.3.0, the default evaluation metric used with the objective 'binary:logistic' was changed from 'error' to 'logloss'. Explicitly set eval_metric if you'd like to restore the old behavior.\n",
      "[14:22:24] WARNING: C:/Users/Administrator/workspace/xgboost-win64_release_1.4.0/src/learner.cc:1095: Starting in XGBoost 1.3.0, the default evaluation metric used with the objective 'binary:logistic' was changed from 'error' to 'logloss'. Explicitly set eval_metric if you'd like to restore the old behavior.\n",
      "[14:25:02] WARNING: C:/Users/Administrator/workspace/xgboost-win64_release_1.4.0/src/learner.cc:1095: Starting in XGBoost 1.3.0, the default evaluation metric used with the objective 'binary:logistic' was changed from 'error' to 'logloss'. Explicitly set eval_metric if you'd like to restore the old behavior.\n",
      "[14:43:58] WARNING: C:/Users/Administrator/workspace/xgboost-win64_release_1.4.0/src/learner.cc:1095: Starting in XGBoost 1.3.0, the default evaluation metric used with the objective 'binary:logistic' was changed from 'error' to 'logloss'. Explicitly set eval_metric if you'd like to restore the old behavior.\n",
      "[14:46:41] WARNING: C:/Users/Administrator/workspace/xgboost-win64_release_1.4.0/src/learner.cc:1095: Starting in XGBoost 1.3.0, the default evaluation metric used with the objective 'binary:logistic' was changed from 'error' to 'logloss'. Explicitly set eval_metric if you'd like to restore the old behavior.\n",
      "[14:50:07] WARNING: C:/Users/Administrator/workspace/xgboost-win64_release_1.4.0/src/learner.cc:1095: Starting in XGBoost 1.3.0, the default evaluation metric used with the objective 'binary:logistic' was changed from 'error' to 'logloss'. Explicitly set eval_metric if you'd like to restore the old behavior.\n",
      "[15:28:26] WARNING: C:/Users/Administrator/workspace/xgboost-win64_release_1.4.0/src/learner.cc:1095: Starting in XGBoost 1.3.0, the default evaluation metric used with the objective 'binary:logistic' was changed from 'error' to 'logloss'. Explicitly set eval_metric if you'd like to restore the old behavior.\n",
      "[16:10:51] WARNING: C:/Users/Administrator/workspace/xgboost-win64_release_1.4.0/src/learner.cc:1095: Starting in XGBoost 1.3.0, the default evaluation metric used with the objective 'binary:logistic' was changed from 'error' to 'logloss'. Explicitly set eval_metric if you'd like to restore the old behavior.\n",
      "[16:55:54] WARNING: C:/Users/Administrator/workspace/xgboost-win64_release_1.4.0/src/learner.cc:1095: Starting in XGBoost 1.3.0, the default evaluation metric used with the objective 'binary:logistic' was changed from 'error' to 'logloss'. Explicitly set eval_metric if you'd like to restore the old behavior.\n",
      "[17:30:35] WARNING: C:/Users/Administrator/workspace/xgboost-win64_release_1.4.0/src/learner.cc:1095: Starting in XGBoost 1.3.0, the default evaluation metric used with the objective 'binary:logistic' was changed from 'error' to 'logloss'. Explicitly set eval_metric if you'd like to restore the old behavior.\n",
      "[17:57:33] WARNING: C:/Users/Administrator/workspace/xgboost-win64_release_1.4.0/src/learner.cc:1095: Starting in XGBoost 1.3.0, the default evaluation metric used with the objective 'binary:logistic' was changed from 'error' to 'logloss'. Explicitly set eval_metric if you'd like to restore the old behavior.\n",
      "[18:30:59] WARNING: C:/Users/Administrator/workspace/xgboost-win64_release_1.4.0/src/learner.cc:1095: Starting in XGBoost 1.3.0, the default evaluation metric used with the objective 'binary:logistic' was changed from 'error' to 'logloss'. Explicitly set eval_metric if you'd like to restore the old behavior.\n",
      "[18:51:27] WARNING: C:/Users/Administrator/workspace/xgboost-win64_release_1.4.0/src/learner.cc:1095: Starting in XGBoost 1.3.0, the default evaluation metric used with the objective 'binary:logistic' was changed from 'error' to 'logloss'. Explicitly set eval_metric if you'd like to restore the old behavior.\n",
      "[19:22:11] WARNING: C:/Users/Administrator/workspace/xgboost-win64_release_1.4.0/src/learner.cc:1095: Starting in XGBoost 1.3.0, the default evaluation metric used with the objective 'binary:logistic' was changed from 'error' to 'logloss'. Explicitly set eval_metric if you'd like to restore the old behavior.\n",
      "[19:55:55] WARNING: C:/Users/Administrator/workspace/xgboost-win64_release_1.4.0/src/learner.cc:1095: Starting in XGBoost 1.3.0, the default evaluation metric used with the objective 'binary:logistic' was changed from 'error' to 'logloss'. Explicitly set eval_metric if you'd like to restore the old behavior.\n",
      "[20:06:32] WARNING: C:/Users/Administrator/workspace/xgboost-win64_release_1.4.0/src/learner.cc:1095: Starting in XGBoost 1.3.0, the default evaluation metric used with the objective 'binary:logistic' was changed from 'error' to 'logloss'. Explicitly set eval_metric if you'd like to restore the old behavior.\n",
      "[20:16:14] WARNING: C:/Users/Administrator/workspace/xgboost-win64_release_1.4.0/src/learner.cc:1095: Starting in XGBoost 1.3.0, the default evaluation metric used with the objective 'binary:logistic' was changed from 'error' to 'logloss'. Explicitly set eval_metric if you'd like to restore the old behavior.\n",
      "[20:51:03] WARNING: C:/Users/Administrator/workspace/xgboost-win64_release_1.4.0/src/learner.cc:1095: Starting in XGBoost 1.3.0, the default evaluation metric used with the objective 'binary:logistic' was changed from 'error' to 'logloss'. Explicitly set eval_metric if you'd like to restore the old behavior.\n",
      "[21:00:41] WARNING: C:/Users/Administrator/workspace/xgboost-win64_release_1.4.0/src/learner.cc:1095: Starting in XGBoost 1.3.0, the default evaluation metric used with the objective 'binary:logistic' was changed from 'error' to 'logloss'. Explicitly set eval_metric if you'd like to restore the old behavior.\n",
      "[21:03:35] WARNING: C:/Users/Administrator/workspace/xgboost-win64_release_1.4.0/src/learner.cc:1095: Starting in XGBoost 1.3.0, the default evaluation metric used with the objective 'binary:logistic' was changed from 'error' to 'logloss'. Explicitly set eval_metric if you'd like to restore the old behavior.\n",
      "[21:25:30] WARNING: C:/Users/Administrator/workspace/xgboost-win64_release_1.4.0/src/learner.cc:1095: Starting in XGBoost 1.3.0, the default evaluation metric used with the objective 'binary:logistic' was changed from 'error' to 'logloss'. Explicitly set eval_metric if you'd like to restore the old behavior.\n",
      "[21:39:05] WARNING: C:/Users/Administrator/workspace/xgboost-win64_release_1.4.0/src/learner.cc:1095: Starting in XGBoost 1.3.0, the default evaluation metric used with the objective 'binary:logistic' was changed from 'error' to 'logloss'. Explicitly set eval_metric if you'd like to restore the old behavior.\n",
      "[21:50:16] WARNING: C:/Users/Administrator/workspace/xgboost-win64_release_1.4.0/src/learner.cc:1095: Starting in XGBoost 1.3.0, the default evaluation metric used with the objective 'binary:logistic' was changed from 'error' to 'logloss'. Explicitly set eval_metric if you'd like to restore the old behavior.\n",
      "[22:04:21] WARNING: C:/Users/Administrator/workspace/xgboost-win64_release_1.4.0/src/learner.cc:1095: Starting in XGBoost 1.3.0, the default evaluation metric used with the objective 'binary:logistic' was changed from 'error' to 'logloss'. Explicitly set eval_metric if you'd like to restore the old behavior.\n",
      "[22:21:11] WARNING: C:/Users/Administrator/workspace/xgboost-win64_release_1.4.0/src/learner.cc:1095: Starting in XGBoost 1.3.0, the default evaluation metric used with the objective 'binary:logistic' was changed from 'error' to 'logloss'. Explicitly set eval_metric if you'd like to restore the old behavior.\n",
      "[22:52:28] WARNING: C:/Users/Administrator/workspace/xgboost-win64_release_1.4.0/src/learner.cc:1095: Starting in XGBoost 1.3.0, the default evaluation metric used with the objective 'binary:logistic' was changed from 'error' to 'logloss'. Explicitly set eval_metric if you'd like to restore the old behavior.\n",
      "[23:02:30] WARNING: C:/Users/Administrator/workspace/xgboost-win64_release_1.4.0/src/learner.cc:1095: Starting in XGBoost 1.3.0, the default evaluation metric used with the objective 'binary:logistic' was changed from 'error' to 'logloss'. Explicitly set eval_metric if you'd like to restore the old behavior.\n",
      "[23:27:26] WARNING: C:/Users/Administrator/workspace/xgboost-win64_release_1.4.0/src/learner.cc:1095: Starting in XGBoost 1.3.0, the default evaluation metric used with the objective 'binary:logistic' was changed from 'error' to 'logloss'. Explicitly set eval_metric if you'd like to restore the old behavior.\n",
      "[23:33:49] WARNING: C:/Users/Administrator/workspace/xgboost-win64_release_1.4.0/src/learner.cc:1095: Starting in XGBoost 1.3.0, the default evaluation metric used with the objective 'binary:logistic' was changed from 'error' to 'logloss'. Explicitly set eval_metric if you'd like to restore the old behavior.\n",
      "[23:42:33] WARNING: C:/Users/Administrator/workspace/xgboost-win64_release_1.4.0/src/learner.cc:1095: Starting in XGBoost 1.3.0, the default evaluation metric used with the objective 'binary:logistic' was changed from 'error' to 'logloss'. Explicitly set eval_metric if you'd like to restore the old behavior.\n",
      "[23:52:47] WARNING: C:/Users/Administrator/workspace/xgboost-win64_release_1.4.0/src/learner.cc:1095: Starting in XGBoost 1.3.0, the default evaluation metric used with the objective 'binary:logistic' was changed from 'error' to 'logloss'. Explicitly set eval_metric if you'd like to restore the old behavior.\n",
      "[00:15:09] WARNING: C:/Users/Administrator/workspace/xgboost-win64_release_1.4.0/src/learner.cc:1095: Starting in XGBoost 1.3.0, the default evaluation metric used with the objective 'binary:logistic' was changed from 'error' to 'logloss'. Explicitly set eval_metric if you'd like to restore the old behavior.\n",
      "[00:35:46] WARNING: C:/Users/Administrator/workspace/xgboost-win64_release_1.4.0/src/learner.cc:1095: Starting in XGBoost 1.3.0, the default evaluation metric used with the objective 'binary:logistic' was changed from 'error' to 'logloss'. Explicitly set eval_metric if you'd like to restore the old behavior.\n",
      "[11:09:30] WARNING: C:/Users/Administrator/workspace/xgboost-win64_release_1.4.0/src/learner.cc:1095: Starting in XGBoost 1.3.0, the default evaluation metric used with the objective 'binary:logistic' was changed from 'error' to 'logloss'. Explicitly set eval_metric if you'd like to restore the old behavior.\n",
      "[11:40:48] WARNING: C:/Users/Administrator/workspace/xgboost-win64_release_1.4.0/src/learner.cc:1095: Starting in XGBoost 1.3.0, the default evaluation metric used with the objective 'binary:logistic' was changed from 'error' to 'logloss'. Explicitly set eval_metric if you'd like to restore the old behavior.\n",
      "[11:45:03] WARNING: C:/Users/Administrator/workspace/xgboost-win64_release_1.4.0/src/learner.cc:1095: Starting in XGBoost 1.3.0, the default evaluation metric used with the objective 'binary:logistic' was changed from 'error' to 'logloss'. Explicitly set eval_metric if you'd like to restore the old behavior.\n",
      "[12:33:07] WARNING: C:/Users/Administrator/workspace/xgboost-win64_release_1.4.0/src/learner.cc:1095: Starting in XGBoost 1.3.0, the default evaluation metric used with the objective 'binary:logistic' was changed from 'error' to 'logloss'. Explicitly set eval_metric if you'd like to restore the old behavior.\n"
     ]
    },
    {
     "name": "stdout",
     "output_type": "stream",
     "text": [
      "[13:20:56] WARNING: C:/Users/Administrator/workspace/xgboost-win64_release_1.4.0/src/learner.cc:1095: Starting in XGBoost 1.3.0, the default evaluation metric used with the objective 'binary:logistic' was changed from 'error' to 'logloss'. Explicitly set eval_metric if you'd like to restore the old behavior.\n",
      "[14:09:54] WARNING: C:/Users/Administrator/workspace/xgboost-win64_release_1.4.0/src/learner.cc:1095: Starting in XGBoost 1.3.0, the default evaluation metric used with the objective 'binary:logistic' was changed from 'error' to 'logloss'. Explicitly set eval_metric if you'd like to restore the old behavior.\n",
      "[14:53:04] WARNING: C:/Users/Administrator/workspace/xgboost-win64_release_1.4.0/src/learner.cc:1095: Starting in XGBoost 1.3.0, the default evaluation metric used with the objective 'binary:logistic' was changed from 'error' to 'logloss'. Explicitly set eval_metric if you'd like to restore the old behavior.\n",
      "[15:35:22] WARNING: C:/Users/Administrator/workspace/xgboost-win64_release_1.4.0/src/learner.cc:1095: Starting in XGBoost 1.3.0, the default evaluation metric used with the objective 'binary:logistic' was changed from 'error' to 'logloss'. Explicitly set eval_metric if you'd like to restore the old behavior.\n",
      "[16:23:03] WARNING: C:/Users/Administrator/workspace/xgboost-win64_release_1.4.0/src/learner.cc:1095: Starting in XGBoost 1.3.0, the default evaluation metric used with the objective 'binary:logistic' was changed from 'error' to 'logloss'. Explicitly set eval_metric if you'd like to restore the old behavior.\n",
      "[16:46:30] WARNING: C:/Users/Administrator/workspace/xgboost-win64_release_1.4.0/src/learner.cc:1095: Starting in XGBoost 1.3.0, the default evaluation metric used with the objective 'binary:logistic' was changed from 'error' to 'logloss'. Explicitly set eval_metric if you'd like to restore the old behavior.\n",
      "[16:49:12] WARNING: C:/Users/Administrator/workspace/xgboost-win64_release_1.4.0/src/learner.cc:1095: Starting in XGBoost 1.3.0, the default evaluation metric used with the objective 'binary:logistic' was changed from 'error' to 'logloss'. Explicitly set eval_metric if you'd like to restore the old behavior.\n",
      "[17:03:00] WARNING: C:/Users/Administrator/workspace/xgboost-win64_release_1.4.0/src/learner.cc:1095: Starting in XGBoost 1.3.0, the default evaluation metric used with the objective 'binary:logistic' was changed from 'error' to 'logloss'. Explicitly set eval_metric if you'd like to restore the old behavior.\n",
      "[17:42:44] WARNING: C:/Users/Administrator/workspace/xgboost-win64_release_1.4.0/src/learner.cc:1095: Starting in XGBoost 1.3.0, the default evaluation metric used with the objective 'binary:logistic' was changed from 'error' to 'logloss'. Explicitly set eval_metric if you'd like to restore the old behavior.\n",
      "[18:21:02] WARNING: C:/Users/Administrator/workspace/xgboost-win64_release_1.4.0/src/learner.cc:1095: Starting in XGBoost 1.3.0, the default evaluation metric used with the objective 'binary:logistic' was changed from 'error' to 'logloss'. Explicitly set eval_metric if you'd like to restore the old behavior.\n",
      "[18:56:51] WARNING: C:/Users/Administrator/workspace/xgboost-win64_release_1.4.0/src/learner.cc:1095: Starting in XGBoost 1.3.0, the default evaluation metric used with the objective 'binary:logistic' was changed from 'error' to 'logloss'. Explicitly set eval_metric if you'd like to restore the old behavior.\n",
      "[19:50:08] WARNING: C:/Users/Administrator/workspace/xgboost-win64_release_1.4.0/src/learner.cc:1095: Starting in XGBoost 1.3.0, the default evaluation metric used with the objective 'binary:logistic' was changed from 'error' to 'logloss'. Explicitly set eval_metric if you'd like to restore the old behavior.\n",
      "[20:40:07] WARNING: C:/Users/Administrator/workspace/xgboost-win64_release_1.4.0/src/learner.cc:1095: Starting in XGBoost 1.3.0, the default evaluation metric used with the objective 'binary:logistic' was changed from 'error' to 'logloss'. Explicitly set eval_metric if you'd like to restore the old behavior.\n",
      "[21:02:14] WARNING: C:/Users/Administrator/workspace/xgboost-win64_release_1.4.0/src/learner.cc:1095: Starting in XGBoost 1.3.0, the default evaluation metric used with the objective 'binary:logistic' was changed from 'error' to 'logloss'. Explicitly set eval_metric if you'd like to restore the old behavior.\n",
      "[21:24:39] WARNING: C:/Users/Administrator/workspace/xgboost-win64_release_1.4.0/src/learner.cc:1095: Starting in XGBoost 1.3.0, the default evaluation metric used with the objective 'binary:logistic' was changed from 'error' to 'logloss'. Explicitly set eval_metric if you'd like to restore the old behavior.\n",
      "[22:12:49] WARNING: C:/Users/Administrator/workspace/xgboost-win64_release_1.4.0/src/learner.cc:1095: Starting in XGBoost 1.3.0, the default evaluation metric used with the objective 'binary:logistic' was changed from 'error' to 'logloss'. Explicitly set eval_metric if you'd like to restore the old behavior.\n",
      "[22:13:37] WARNING: C:/Users/Administrator/workspace/xgboost-win64_release_1.4.0/src/learner.cc:1095: Starting in XGBoost 1.3.0, the default evaluation metric used with the objective 'binary:logistic' was changed from 'error' to 'logloss'. Explicitly set eval_metric if you'd like to restore the old behavior.\n",
      "[22:24:47] WARNING: C:/Users/Administrator/workspace/xgboost-win64_release_1.4.0/src/learner.cc:1095: Starting in XGBoost 1.3.0, the default evaluation metric used with the objective 'binary:logistic' was changed from 'error' to 'logloss'. Explicitly set eval_metric if you'd like to restore the old behavior.\n",
      "[22:51:07] WARNING: C:/Users/Administrator/workspace/xgboost-win64_release_1.4.0/src/learner.cc:1095: Starting in XGBoost 1.3.0, the default evaluation metric used with the objective 'binary:logistic' was changed from 'error' to 'logloss'. Explicitly set eval_metric if you'd like to restore the old behavior.\n",
      "[22:57:06] WARNING: C:/Users/Administrator/workspace/xgboost-win64_release_1.4.0/src/learner.cc:1095: Starting in XGBoost 1.3.0, the default evaluation metric used with the objective 'binary:logistic' was changed from 'error' to 'logloss'. Explicitly set eval_metric if you'd like to restore the old behavior.\n",
      "[23:24:36] WARNING: C:/Users/Administrator/workspace/xgboost-win64_release_1.4.0/src/learner.cc:1095: Starting in XGBoost 1.3.0, the default evaluation metric used with the objective 'binary:logistic' was changed from 'error' to 'logloss'. Explicitly set eval_metric if you'd like to restore the old behavior.\n",
      "[23:55:00] WARNING: C:/Users/Administrator/workspace/xgboost-win64_release_1.4.0/src/learner.cc:1095: Starting in XGBoost 1.3.0, the default evaluation metric used with the objective 'binary:logistic' was changed from 'error' to 'logloss'. Explicitly set eval_metric if you'd like to restore the old behavior.\n",
      "[00:18:22] WARNING: C:/Users/Administrator/workspace/xgboost-win64_release_1.4.0/src/learner.cc:1095: Starting in XGBoost 1.3.0, the default evaluation metric used with the objective 'binary:logistic' was changed from 'error' to 'logloss'. Explicitly set eval_metric if you'd like to restore the old behavior.\n",
      "[00:26:00] WARNING: C:/Users/Administrator/workspace/xgboost-win64_release_1.4.0/src/learner.cc:1095: Starting in XGBoost 1.3.0, the default evaluation metric used with the objective 'binary:logistic' was changed from 'error' to 'logloss'. Explicitly set eval_metric if you'd like to restore the old behavior.\n",
      "[01:08:11] WARNING: C:/Users/Administrator/workspace/xgboost-win64_release_1.4.0/src/learner.cc:1095: Starting in XGBoost 1.3.0, the default evaluation metric used with the objective 'binary:logistic' was changed from 'error' to 'logloss'. Explicitly set eval_metric if you'd like to restore the old behavior.\n",
      "[01:17:52] WARNING: C:/Users/Administrator/workspace/xgboost-win64_release_1.4.0/src/learner.cc:1095: Starting in XGBoost 1.3.0, the default evaluation metric used with the objective 'binary:logistic' was changed from 'error' to 'logloss'. Explicitly set eval_metric if you'd like to restore the old behavior.\n",
      "[01:44:00] WARNING: C:/Users/Administrator/workspace/xgboost-win64_release_1.4.0/src/learner.cc:1095: Starting in XGBoost 1.3.0, the default evaluation metric used with the objective 'binary:logistic' was changed from 'error' to 'logloss'. Explicitly set eval_metric if you'd like to restore the old behavior.\n",
      "[01:58:38] WARNING: C:/Users/Administrator/workspace/xgboost-win64_release_1.4.0/src/learner.cc:1095: Starting in XGBoost 1.3.0, the default evaluation metric used with the objective 'binary:logistic' was changed from 'error' to 'logloss'. Explicitly set eval_metric if you'd like to restore the old behavior.\n",
      "[02:10:30] WARNING: C:/Users/Administrator/workspace/xgboost-win64_release_1.4.0/src/learner.cc:1095: Starting in XGBoost 1.3.0, the default evaluation metric used with the objective 'binary:logistic' was changed from 'error' to 'logloss'. Explicitly set eval_metric if you'd like to restore the old behavior.\n",
      "[02:18:23] WARNING: C:/Users/Administrator/workspace/xgboost-win64_release_1.4.0/src/learner.cc:1095: Starting in XGBoost 1.3.0, the default evaluation metric used with the objective 'binary:logistic' was changed from 'error' to 'logloss'. Explicitly set eval_metric if you'd like to restore the old behavior.\n",
      "[02:20:45] WARNING: C:/Users/Administrator/workspace/xgboost-win64_release_1.4.0/src/learner.cc:1095: Starting in XGBoost 1.3.0, the default evaluation metric used with the objective 'binary:logistic' was changed from 'error' to 'logloss'. Explicitly set eval_metric if you'd like to restore the old behavior.\n",
      "[02:57:42] WARNING: C:/Users/Administrator/workspace/xgboost-win64_release_1.4.0/src/learner.cc:1095: Starting in XGBoost 1.3.0, the default evaluation metric used with the objective 'binary:logistic' was changed from 'error' to 'logloss'. Explicitly set eval_metric if you'd like to restore the old behavior.\n",
      "[03:04:20] WARNING: C:/Users/Administrator/workspace/xgboost-win64_release_1.4.0/src/learner.cc:1095: Starting in XGBoost 1.3.0, the default evaluation metric used with the objective 'binary:logistic' was changed from 'error' to 'logloss'. Explicitly set eval_metric if you'd like to restore the old behavior.\n",
      "[03:06:38] WARNING: C:/Users/Administrator/workspace/xgboost-win64_release_1.4.0/src/learner.cc:1095: Starting in XGBoost 1.3.0, the default evaluation metric used with the objective 'binary:logistic' was changed from 'error' to 'logloss'. Explicitly set eval_metric if you'd like to restore the old behavior.\n",
      "[03:21:07] WARNING: C:/Users/Administrator/workspace/xgboost-win64_release_1.4.0/src/learner.cc:1095: Starting in XGBoost 1.3.0, the default evaluation metric used with the objective 'binary:logistic' was changed from 'error' to 'logloss'. Explicitly set eval_metric if you'd like to restore the old behavior.\n",
      "[03:44:34] WARNING: C:/Users/Administrator/workspace/xgboost-win64_release_1.4.0/src/learner.cc:1095: Starting in XGBoost 1.3.0, the default evaluation metric used with the objective 'binary:logistic' was changed from 'error' to 'logloss'. Explicitly set eval_metric if you'd like to restore the old behavior.\n",
      "[03:59:45] WARNING: C:/Users/Administrator/workspace/xgboost-win64_release_1.4.0/src/learner.cc:1095: Starting in XGBoost 1.3.0, the default evaluation metric used with the objective 'binary:logistic' was changed from 'error' to 'logloss'. Explicitly set eval_metric if you'd like to restore the old behavior.\n",
      "[04:10:25] WARNING: C:/Users/Administrator/workspace/xgboost-win64_release_1.4.0/src/learner.cc:1095: Starting in XGBoost 1.3.0, the default evaluation metric used with the objective 'binary:logistic' was changed from 'error' to 'logloss'. Explicitly set eval_metric if you'd like to restore the old behavior.\n",
      "[04:44:25] WARNING: C:/Users/Administrator/workspace/xgboost-win64_release_1.4.0/src/learner.cc:1095: Starting in XGBoost 1.3.0, the default evaluation metric used with the objective 'binary:logistic' was changed from 'error' to 'logloss'. Explicitly set eval_metric if you'd like to restore the old behavior.\n",
      "[05:11:50] WARNING: C:/Users/Administrator/workspace/xgboost-win64_release_1.4.0/src/learner.cc:1095: Starting in XGBoost 1.3.0, the default evaluation metric used with the objective 'binary:logistic' was changed from 'error' to 'logloss'. Explicitly set eval_metric if you'd like to restore the old behavior.\n",
      "[05:14:12] WARNING: C:/Users/Administrator/workspace/xgboost-win64_release_1.4.0/src/learner.cc:1095: Starting in XGBoost 1.3.0, the default evaluation metric used with the objective 'binary:logistic' was changed from 'error' to 'logloss'. Explicitly set eval_metric if you'd like to restore the old behavior.\n",
      "[05:48:26] WARNING: C:/Users/Administrator/workspace/xgboost-win64_release_1.4.0/src/learner.cc:1095: Starting in XGBoost 1.3.0, the default evaluation metric used with the objective 'binary:logistic' was changed from 'error' to 'logloss'. Explicitly set eval_metric if you'd like to restore the old behavior.\n",
      "[05:52:27] WARNING: C:/Users/Administrator/workspace/xgboost-win64_release_1.4.0/src/learner.cc:1095: Starting in XGBoost 1.3.0, the default evaluation metric used with the objective 'binary:logistic' was changed from 'error' to 'logloss'. Explicitly set eval_metric if you'd like to restore the old behavior.\n",
      "[06:21:51] WARNING: C:/Users/Administrator/workspace/xgboost-win64_release_1.4.0/src/learner.cc:1095: Starting in XGBoost 1.3.0, the default evaluation metric used with the objective 'binary:logistic' was changed from 'error' to 'logloss'. Explicitly set eval_metric if you'd like to restore the old behavior.\n",
      "[06:30:31] WARNING: C:/Users/Administrator/workspace/xgboost-win64_release_1.4.0/src/learner.cc:1095: Starting in XGBoost 1.3.0, the default evaluation metric used with the objective 'binary:logistic' was changed from 'error' to 'logloss'. Explicitly set eval_metric if you'd like to restore the old behavior.\n",
      "[06:33:23] WARNING: C:/Users/Administrator/workspace/xgboost-win64_release_1.4.0/src/learner.cc:1095: Starting in XGBoost 1.3.0, the default evaluation metric used with the objective 'binary:logistic' was changed from 'error' to 'logloss'. Explicitly set eval_metric if you'd like to restore the old behavior.\n",
      "[06:49:49] WARNING: C:/Users/Administrator/workspace/xgboost-win64_release_1.4.0/src/learner.cc:1095: Starting in XGBoost 1.3.0, the default evaluation metric used with the objective 'binary:logistic' was changed from 'error' to 'logloss'. Explicitly set eval_metric if you'd like to restore the old behavior.\n",
      "[06:54:06] WARNING: C:/Users/Administrator/workspace/xgboost-win64_release_1.4.0/src/learner.cc:1095: Starting in XGBoost 1.3.0, the default evaluation metric used with the objective 'binary:logistic' was changed from 'error' to 'logloss'. Explicitly set eval_metric if you'd like to restore the old behavior.\n",
      "100%|████████████████████████████████████████████████████████████████████████████████████████| 100/100 [44:19:17<00:00, 1595.58s/trial, best loss: 0.17405678039411487]\n"
     ]
    }
   ],
   "source": [
    "# getting the parameters\n",
    "trials = Trials()\n",
    "best = fmin(fn=objective,\n",
    "           space=space,\n",
    "           algo=tpe.suggest,\n",
    "           max_evals=100,\n",
    "           trials=trials)"
   ]
  },
  {
   "cell_type": "code",
   "execution_count": 68,
   "id": "eee6b43f",
   "metadata": {},
   "outputs": [
    {
     "data": {
      "text/plain": [
       "{'colsample_bytree': 0.8500000000000001,\n",
       " 'gamma': 0.6000000000000001,\n",
       " 'learning_rate': 0.07500000000000001,\n",
       " 'max_depth': 9,\n",
       " 'min_child_weight': 6.0,\n",
       " 'n_estimators': 7,\n",
       " 'subsample': 0.8}"
      ]
     },
     "execution_count": 68,
     "metadata": {},
     "output_type": "execute_result"
    }
   ],
   "source": [
    "# having a look at the best hyperparameters\n",
    "best"
   ]
  },
  {
   "cell_type": "code",
   "execution_count": 69,
   "id": "409f1d73",
   "metadata": {},
   "outputs": [],
   "source": [
    "# creating the model\n",
    "xgb_tuned = xgb.XGBClassifier(n_estimators=7,\n",
    "                             gamma=0.60001,\n",
    "                             learning_rate=0.075,\n",
    "                             max_depth=9,\n",
    "                             min_child_weight=6.0,\n",
    "                             colsample_bytree=0.85,\n",
    "                             subsample=0.8)"
   ]
  },
  {
   "cell_type": "code",
   "execution_count": 70,
   "id": "f3af7870",
   "metadata": {},
   "outputs": [
    {
     "name": "stdout",
     "output_type": "stream",
     "text": [
      "INFO: 'xgb_tuned' does not exist. Creating a new experiment\n",
      "[09:45:39] WARNING: C:/Users/Administrator/workspace/xgboost-win64_release_1.4.0/src/learner.cc:1095: Starting in XGBoost 1.3.0, the default evaluation metric used with the objective 'binary:logistic' was changed from 'error' to 'logloss'. Explicitly set eval_metric if you'd like to restore the old behavior.\n",
      "Training accuracy: 83.99%\n",
      "Validation Accuracy: 0.8179394020199326\n",
      "AUC Score: 0.7891847395915784\n",
      "Precision: 0.7959745762711864\n",
      "Recall: 0.68\n",
      "F1 Score: 0.7334309419228892\n"
     ]
    },
    {
     "data": {
      "image/png": "[encoded data removed]",
      "text/plain": [
       "<Figure size 432x288 with 1 Axes>"
      ]
     },
     "metadata": {
      "needs_background": "light"
     },
     "output_type": "display_data"
    },
    {
     "name": "stdout",
     "output_type": "stream",
     "text": [
      "Model run: 670fe88119204b58a52d1a17b1d75cfe\n"
     ]
    },
    {
     "data": {
      "image/png": "[encoded data removed]",
      "text/plain": [
       "<Figure size 432x288 with 2 Axes>"
      ]
     },
     "metadata": {
      "needs_background": "light"
     },
     "output_type": "display_data"
    }
   ],
   "source": [
    "# setting the MLFlow experiment \n",
    "mlflow.set_experiment('xgb_tuned')\n",
    "with mlflow.start_run():\n",
    "    train_model(xgb_tuned, X_train, y_train)\n",
    "    evaluate_model(xgb_tuned, X_test, y_test)\n",
    "    \n",
    "    # logging the model\n",
    "    mlflow.sklearn.log_model(xgb_tuned, 'xgboost_tuned_model')\n",
    "    print(f\"Model run: {mlflow.active_run().info.run_uuid}\")\n",
    "    \n",
    "mlflow.end_run()"
   ]
  },
  {
   "cell_type": "markdown",
   "id": "55b651ac",
   "metadata": {},
   "source": [
    "### RandomForest Classifier "
   ]
  },
  {
   "cell_type": "markdown",
   "id": "9703d90b",
   "metadata": {},
   "source": [
    "***RandomForest Classifier with default Hyperparameters***"
   ]
  },
  {
   "cell_type": "code",
   "execution_count": 14,
   "id": "12cdf98b",
   "metadata": {},
   "outputs": [
    {
     "name": "stdout",
     "output_type": "stream",
     "text": [
      "INFO: 'random_forest' does not exist. Creating a new experiment\n",
      "Training accuracy: 100.00%\n",
      "Validation Accuracy: 0.8189727009099697\n",
      "AUC Score: 0.7897186425278936\n",
      "Precision: 0.802477044629511\n",
      "Recall: 0.6773001712174461\n",
      "F1 Score: 0.7345941455309583\n"
     ]
    },
    {
     "data": {
      "image/png": "[encoded data removed]",
      "text/plain": [
       "<Figure size 432x288 with 1 Axes>"
      ]
     },
     "metadata": {
      "needs_background": "light"
     },
     "output_type": "display_data"
    },
    {
     "name": "stdout",
     "output_type": "stream",
     "text": [
      "Model run: 23a5792b21ea44d6ad35a09107637a3e\n"
     ]
    },
    {
     "data": {
      "image/png": "[encoded data removed]",
      "text/plain": [
       "<Figure size 432x288 with 2 Axes>"
      ]
     },
     "metadata": {
      "needs_background": "light"
     },
     "output_type": "display_data"
    }
   ],
   "source": [
    "# setting up the experiment \n",
    "rf_clf = RandomForestClassifier()\n",
    "\n",
    "mlflow.set_experiment(\"random_forest\")\n",
    "with mlflow.start_run():\n",
    "    # training the model\n",
    "    train_model(rf_clf, X_train, y_train)\n",
    "    # evaluate the model\n",
    "    evaluate_model(rf_clf, X_test, y_test)\n",
    "    \n",
    "    # logging the model\n",
    "    mlflow.sklearn.log_model(rf_clf, 'random_forest_default')\n",
    "    print(f\"Model run: {mlflow.active_run().info.run_uuid}\")"
   ]
  },
  {
   "cell_type": "markdown",
   "id": "1425a545",
   "metadata": {},
   "source": [
    "***RandomForest Classifier with Hyperparameter Tuning***"
   ]
  },
  {
   "cell_type": "code",
   "execution_count": 15,
   "id": "3a961d9c",
   "metadata": {},
   "outputs": [],
   "source": [
    "# defining the space \n",
    "space = {\n",
    "    'criterion': hp.choice('criterion', ['gini', 'entropy']),\n",
    "    'max_depth': hp.quniform('max_depth', 10, 1200, 10),\n",
    "    'max_features': hp.choice('max_features', ['auto', 'sqrt', 'log2', None]),\n",
    "    'min_samples_leaf': hp.uniform('min_samples_leaf', 0, 0.5),\n",
    "    'min_samples_split': hp.uniform('min_samples_split', 0, 1),\n",
    "    'n_estimators': hp.choice('n_estimators', [50, 100, 200, 300, 600, 900, 1200, 1500])\n",
    "}"
   ]
  },
  {
   "cell_type": "code",
   "execution_count": 18,
   "id": "640188b1",
   "metadata": {},
   "outputs": [],
   "source": [
    "# objective function\n",
    "def objective(space):\n",
    "    model = RandomForestClassifier(criterion=space['criterion'],\n",
    "                                  max_depth=space['max_depth'],\n",
    "                                  max_features=space['max_features'],\n",
    "                                  min_samples_leaf=space['min_samples_leaf'],\n",
    "                                  min_samples_split=space['min_samples_split'],\n",
    "                                  n_estimators=space['n_estimators'])\n",
    "    \n",
    "    accuracy = cross_val_score(model, X_train, y_train, cv=5).mean()\n",
    "    return {'loss': -accuracy, 'status': STATUS_OK}"
   ]
  },
  {
   "cell_type": "code",
   "execution_count": 19,
   "id": "22acd784",
   "metadata": {},
   "outputs": [
    {
     "name": "stdout",
     "output_type": "stream",
     "text": [
      "100%|███████████████████████████████████████████████████████████████████████████████████████████| 50/50 [11:44:09<00:00, 844.98s/trial, best loss: -0.7852571428571429]\n"
     ]
    }
   ],
   "source": [
    "# finding best hyperparameters\n",
    "trials = Trials()\n",
    "best = fmin(fn=objective, \n",
    "           space=space, \n",
    "           algo=tpe.suggest,\n",
    "           max_evals=50,\n",
    "           trials=trials)"
   ]
  },
  {
   "cell_type": "code",
   "execution_count": 20,
   "id": "5e6d5104",
   "metadata": {},
   "outputs": [
    {
     "data": {
      "text/plain": [
       "{'criterion': 0,\n",
       " 'max_depth': 700.0,\n",
       " 'max_features': 1,\n",
       " 'min_samples_leaf': 0.005656322054586932,\n",
       " 'min_samples_split': 0.014859475974495509,\n",
       " 'n_estimators': 6}"
      ]
     },
     "execution_count": 20,
     "metadata": {},
     "output_type": "execute_result"
    }
   ],
   "source": [
    "best"
   ]
  },
  {
   "cell_type": "code",
   "execution_count": 23,
   "id": "4f43cd93",
   "metadata": {},
   "outputs": [],
   "source": [
    "# creating the model\n",
    "rf_clf_tuned = RandomForestClassifier(n_estimators=6,\n",
    "                                     criterion='gini',\n",
    "                                     max_depth=700,\n",
    "                                     max_features='sqrt',\n",
    "                                     min_samples_leaf=0.00565632,\n",
    "                                     min_samples_split=0.01485,)"
   ]
  },
  {
   "cell_type": "code",
   "execution_count": 24,
   "id": "0246bbf6",
   "metadata": {},
   "outputs": [
    {
     "name": "stdout",
     "output_type": "stream",
     "text": [
      "Training accuracy: 77.27%\n",
      "Validation Accuracy: 0.7677410752974901\n",
      "AUC Score: 0.7315001131102179\n",
      "Precision: 0.7290072102052135\n",
      "Recall: 0.5922321348112103\n",
      "F1 Score: 0.6535401750198887\n"
     ]
    },
    {
     "data": {
      "image/png": "[encoded data removed]",
      "text/plain": [
       "<Figure size 432x288 with 1 Axes>"
      ]
     },
     "metadata": {
      "needs_background": "light"
     },
     "output_type": "display_data"
    },
    {
     "name": "stdout",
     "output_type": "stream",
     "text": [
      "Model Run: 7456ad1195ba45209ca77b999ccf2308\n"
     ]
    },
    {
     "data": {
      "image/png": "[encoded data removed]",
      "text/plain": [
       "<Figure size 432x288 with 2 Axes>"
      ]
     },
     "metadata": {
      "needs_background": "light"
     },
     "output_type": "display_data"
    }
   ],
   "source": [
    "# training the model\n",
    "mlflow.set_experiment('random_forest')\n",
    "with mlflow.start_run():\n",
    "    train_model(rf_clf_tuned, X_train, y_train)\n",
    "    evaluate_model(rf_clf_tuned, X_test, y_test)\n",
    "    \n",
    "    mlflow.sklearn.log_model(rf_clf_tuned, 'random_forest_tuned')\n",
    "    print(f\"Model Run: {mlflow.active_run().info.run_uuid}\")"
   ]
  },
  {
   "cell_type": "code",
   "execution_count": null,
   "id": "fe19010a",
   "metadata": {},
   "outputs": [],
   "source": []
  }
 ],
 "metadata": {
  "kernelspec": {
   "display_name": "Python 3 (ipykernel)",
   "language": "python",
   "name": "python3"
  },
  "language_info": {
   "codemirror_mode": {
    "name": "ipython",
    "version": 3
   },
   "file_extension": ".py",
   "mimetype": "text/x-python",
   "name": "python",
   "nbconvert_exporter": "python",
   "pygments_lexer": "ipython3",
   "version": "3.8.6"
  }
 },
 "nbformat": 4,
 "nbformat_minor": 5
}
